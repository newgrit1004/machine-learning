{
 "cells": [
  {
   "cell_type": "markdown",
   "metadata": {
    "id": "wZ5AyDrAunPu"
   },
   "source": [
    "# RandomForest without Optuna"
   ]
  },
  {
   "cell_type": "code",
   "execution_count": 1,
   "metadata": {
    "id": "CrQcT8J4ulxx"
   },
   "outputs": [],
   "source": [
    "from sklearn.datasets import fetch_openml\n",
    "mnist = fetch_openml('mnist_784', cache=False)"
   ]
  },
  {
   "cell_type": "code",
   "execution_count": 2,
   "metadata": {
    "colab": {
     "base_uri": "https://localhost:8080/"
    },
    "id": "1yKWJYgL6qgd",
    "outputId": "ab1d80d0-7780-46d0-f632-f401440c8f73"
   },
   "outputs": [
    {
     "name": "stdout",
     "output_type": "stream",
     "text": [
      "pixel1      0.0\n",
      "pixel2      0.0\n",
      "pixel3      0.0\n",
      "pixel4      0.0\n",
      "pixel5      0.0\n",
      "           ... \n",
      "pixel780    0.0\n",
      "pixel781    0.0\n",
      "pixel782    0.0\n",
      "pixel783    0.0\n",
      "pixel784    0.0\n",
      "Length: 784, dtype: float64 pixel1      0.000000\n",
      "pixel2      0.000000\n",
      "pixel3      0.000000\n",
      "pixel4      0.000000\n",
      "pixel5      0.000000\n",
      "              ...   \n",
      "pixel780    0.243137\n",
      "pixel781    0.000000\n",
      "pixel782    0.000000\n",
      "pixel783    0.000000\n",
      "pixel784    0.000000\n",
      "Length: 784, dtype: float64\n"
     ]
    }
   ],
   "source": [
    "X = mnist.data.astype('float32')\n",
    "y = mnist.target.astype('int64')\n",
    "\n",
    "X /= 255.0\n",
    "print(X.min(), X.max())"
   ]
  },
  {
   "cell_type": "code",
   "execution_count": 3,
   "metadata": {
    "id": "1b0dEq8w8hd9"
   },
   "outputs": [],
   "source": [
    "X = X[:10000]\n",
    "y = y[:10000]"
   ]
  },
  {
   "cell_type": "code",
   "execution_count": 4,
   "metadata": {
    "id": "sJl0HSs4uq7E"
   },
   "outputs": [],
   "source": [
    "from sklearn.model_selection import train_test_split\n",
    "X_train, X_test, y_train, y_test = train_test_split(X, y, test_size=0.25, random_state=42)"
   ]
  },
  {
   "cell_type": "code",
   "execution_count": 5,
   "metadata": {
    "colab": {
     "base_uri": "https://localhost:8080/"
    },
    "id": "QR97TMVXuuIx",
    "outputId": "1aefebf5-3aad-4179-8234-e79514e642d6"
   },
   "outputs": [
    {
     "name": "stdout",
     "output_type": "stream",
     "text": [
      "1.0\n",
      "0.9496\n"
     ]
    }
   ],
   "source": [
    "from sklearn.ensemble import RandomForestClassifier\n",
    "from sklearn.metrics import accuracy_score\n",
    "\n",
    "classifier = RandomForestClassifier()\n",
    "classifier.fit(X_train, y_train)\n",
    "y_pred = classifier.predict(X_test)\n",
    "print(accuracy_score(y_train, classifier.predict(X_train)))\n",
    "print(accuracy_score(y_test, y_pred))"
   ]
  },
  {
   "cell_type": "markdown",
   "metadata": {
    "id": "DmYVo5KsuzKG"
   },
   "source": [
    "# RandomForest using Optuna"
   ]
  },
  {
   "cell_type": "code",
   "execution_count": 6,
   "metadata": {
    "colab": {
     "base_uri": "https://localhost:8080/"
    },
    "id": "C8U6wcayu5L7",
    "outputId": "0b608188-b367-4029-d553-3ebac49d6507"
   },
   "outputs": [
    {
     "name": "stdout",
     "output_type": "stream",
     "text": [
      "Collecting optuna\n",
      "  Downloading optuna-2.10.0-py3-none-any.whl (308 kB)\n",
      "\u001b[?25l\r",
      "\u001b[K     |█                               | 10 kB 19.9 MB/s eta 0:00:01\r",
      "\u001b[K     |██▏                             | 20 kB 22.7 MB/s eta 0:00:01\r",
      "\u001b[K     |███▏                            | 30 kB 10.9 MB/s eta 0:00:01\r",
      "\u001b[K     |████▎                           | 40 kB 4.6 MB/s eta 0:00:01\r",
      "\u001b[K     |█████▎                          | 51 kB 4.6 MB/s eta 0:00:01\r",
      "\u001b[K     |██████▍                         | 61 kB 5.4 MB/s eta 0:00:01\r",
      "\u001b[K     |███████▍                        | 71 kB 5.5 MB/s eta 0:00:01\r",
      "\u001b[K     |████████▌                       | 81 kB 4.3 MB/s eta 0:00:01\r",
      "\u001b[K     |█████████▋                      | 92 kB 4.8 MB/s eta 0:00:01\r",
      "\u001b[K     |██████████▋                     | 102 kB 5.3 MB/s eta 0:00:01\r",
      "\u001b[K     |███████████▊                    | 112 kB 5.3 MB/s eta 0:00:01\r",
      "\u001b[K     |████████████▊                   | 122 kB 5.3 MB/s eta 0:00:01\r",
      "\u001b[K     |█████████████▉                  | 133 kB 5.3 MB/s eta 0:00:01\r",
      "\u001b[K     |██████████████▉                 | 143 kB 5.3 MB/s eta 0:00:01\r",
      "\u001b[K     |████████████████                | 153 kB 5.3 MB/s eta 0:00:01\r",
      "\u001b[K     |█████████████████               | 163 kB 5.3 MB/s eta 0:00:01\r",
      "\u001b[K     |██████████████████              | 174 kB 5.3 MB/s eta 0:00:01\r",
      "\u001b[K     |███████████████████▏            | 184 kB 5.3 MB/s eta 0:00:01\r",
      "\u001b[K     |████████████████████▏           | 194 kB 5.3 MB/s eta 0:00:01\r",
      "\u001b[K     |█████████████████████▎          | 204 kB 5.3 MB/s eta 0:00:01\r",
      "\u001b[K     |██████████████████████▎         | 215 kB 5.3 MB/s eta 0:00:01\r",
      "\u001b[K     |███████████████████████▍        | 225 kB 5.3 MB/s eta 0:00:01\r",
      "\u001b[K     |████████████████████████▌       | 235 kB 5.3 MB/s eta 0:00:01\r",
      "\u001b[K     |█████████████████████████▌      | 245 kB 5.3 MB/s eta 0:00:01\r",
      "\u001b[K     |██████████████████████████▋     | 256 kB 5.3 MB/s eta 0:00:01\r",
      "\u001b[K     |███████████████████████████▋    | 266 kB 5.3 MB/s eta 0:00:01\r",
      "\u001b[K     |████████████████████████████▊   | 276 kB 5.3 MB/s eta 0:00:01\r",
      "\u001b[K     |█████████████████████████████▊  | 286 kB 5.3 MB/s eta 0:00:01\r",
      "\u001b[K     |██████████████████████████████▉ | 296 kB 5.3 MB/s eta 0:00:01\r",
      "\u001b[K     |████████████████████████████████| 307 kB 5.3 MB/s eta 0:00:01\r",
      "\u001b[K     |████████████████████████████████| 308 kB 5.3 MB/s \n",
      "\u001b[?25hCollecting cmaes>=0.8.2\n",
      "  Downloading cmaes-0.8.2-py3-none-any.whl (15 kB)\n",
      "Requirement already satisfied: numpy in /usr/local/lib/python3.7/dist-packages (from optuna) (1.21.6)\n",
      "Collecting alembic\n",
      "  Downloading alembic-1.7.7-py3-none-any.whl (210 kB)\n",
      "\u001b[K     |████████████████████████████████| 210 kB 42.2 MB/s \n",
      "\u001b[?25hRequirement already satisfied: scipy!=1.4.0 in /usr/local/lib/python3.7/dist-packages (from optuna) (1.4.1)\n",
      "Collecting colorlog\n",
      "  Downloading colorlog-6.6.0-py2.py3-none-any.whl (11 kB)\n",
      "Requirement already satisfied: packaging>=20.0 in /usr/local/lib/python3.7/dist-packages (from optuna) (21.3)\n",
      "Requirement already satisfied: tqdm in /usr/local/lib/python3.7/dist-packages (from optuna) (4.64.0)\n",
      "Requirement already satisfied: PyYAML in /usr/local/lib/python3.7/dist-packages (from optuna) (3.13)\n",
      "Requirement already satisfied: sqlalchemy>=1.1.0 in /usr/local/lib/python3.7/dist-packages (from optuna) (1.4.35)\n",
      "Collecting cliff\n",
      "  Downloading cliff-3.10.1-py3-none-any.whl (81 kB)\n",
      "\u001b[K     |████████████████████████████████| 81 kB 8.5 MB/s \n",
      "\u001b[?25hRequirement already satisfied: pyparsing!=3.0.5,>=2.0.2 in /usr/local/lib/python3.7/dist-packages (from packaging>=20.0->optuna) (3.0.8)\n",
      "Requirement already satisfied: greenlet!=0.4.17 in /usr/local/lib/python3.7/dist-packages (from sqlalchemy>=1.1.0->optuna) (1.1.2)\n",
      "Requirement already satisfied: importlib-metadata in /usr/local/lib/python3.7/dist-packages (from sqlalchemy>=1.1.0->optuna) (4.11.3)\n",
      "Requirement already satisfied: importlib-resources in /usr/local/lib/python3.7/dist-packages (from alembic->optuna) (5.7.0)\n",
      "Collecting Mako\n",
      "  Downloading Mako-1.2.0-py3-none-any.whl (78 kB)\n",
      "\u001b[K     |████████████████████████████████| 78 kB 6.8 MB/s \n",
      "\u001b[?25hCollecting pbr!=2.1.0,>=2.0.0\n",
      "  Downloading pbr-5.8.1-py2.py3-none-any.whl (113 kB)\n",
      "\u001b[K     |████████████████████████████████| 113 kB 48.9 MB/s \n",
      "\u001b[?25hCollecting stevedore>=2.0.1\n",
      "  Downloading stevedore-3.5.0-py3-none-any.whl (49 kB)\n",
      "\u001b[K     |████████████████████████████████| 49 kB 5.7 MB/s \n",
      "\u001b[?25hCollecting cmd2>=1.0.0\n",
      "  Downloading cmd2-2.4.1-py3-none-any.whl (146 kB)\n",
      "\u001b[K     |████████████████████████████████| 146 kB 47.9 MB/s \n",
      "\u001b[?25hCollecting autopage>=0.4.0\n",
      "  Downloading autopage-0.5.0-py3-none-any.whl (29 kB)\n",
      "Requirement already satisfied: PrettyTable>=0.7.2 in /usr/local/lib/python3.7/dist-packages (from cliff->optuna) (3.2.0)\n",
      "Requirement already satisfied: wcwidth>=0.1.7 in /usr/local/lib/python3.7/dist-packages (from cmd2>=1.0.0->cliff->optuna) (0.2.5)\n",
      "Requirement already satisfied: typing-extensions in /usr/local/lib/python3.7/dist-packages (from cmd2>=1.0.0->cliff->optuna) (4.1.1)\n",
      "Requirement already satisfied: attrs>=16.3.0 in /usr/local/lib/python3.7/dist-packages (from cmd2>=1.0.0->cliff->optuna) (21.4.0)\n",
      "Collecting pyperclip>=1.6\n",
      "  Downloading pyperclip-1.8.2.tar.gz (20 kB)\n",
      "Requirement already satisfied: zipp>=0.5 in /usr/local/lib/python3.7/dist-packages (from importlib-metadata->sqlalchemy>=1.1.0->optuna) (3.8.0)\n",
      "Requirement already satisfied: MarkupSafe>=0.9.2 in /usr/local/lib/python3.7/dist-packages (from Mako->alembic->optuna) (2.0.1)\n",
      "Building wheels for collected packages: pyperclip\n",
      "  Building wheel for pyperclip (setup.py) ... \u001b[?25l\u001b[?25hdone\n",
      "  Created wheel for pyperclip: filename=pyperclip-1.8.2-py3-none-any.whl size=11137 sha256=cc226b339f6a2bc6c58b975f06f86a23eed26bb80304cfa2fe7f885e794a4f25\n",
      "  Stored in directory: /root/.cache/pip/wheels/9f/18/84/8f69f8b08169c7bae2dde6bd7daf0c19fca8c8e500ee620a28\n",
      "Successfully built pyperclip\n",
      "Installing collected packages: pyperclip, pbr, stevedore, Mako, cmd2, autopage, colorlog, cmaes, cliff, alembic, optuna\n",
      "Successfully installed Mako-1.2.0 alembic-1.7.7 autopage-0.5.0 cliff-3.10.1 cmaes-0.8.2 cmd2-2.4.1 colorlog-6.6.0 optuna-2.10.0 pbr-5.8.1 pyperclip-1.8.2 stevedore-3.5.0\n"
     ]
    }
   ],
   "source": [
    "!pip install optuna"
   ]
  },
  {
   "cell_type": "code",
   "execution_count": 10,
   "metadata": {
    "id": "S6V7Dl4cuyaN"
   },
   "outputs": [],
   "source": [
    "import optuna \n",
    "from optuna import Trial, visualization\n",
    "from optuna.samplers import TPESampler\n",
    "from sklearn.metrics import accuracy_score\n",
    "from sklearn.ensemble import RandomForestClassifier\n",
    "\n",
    "def objectiveRF(trial: Trial, X, y):\n",
    "    param = {\n",
    "        'n_estimators': trial.suggest_int('n_estimators', 700, 3000),\n",
    "        'max_depth': trial.suggest_int('max_depth', 4, 50),\n",
    "        'min_samples_split': trial.suggest_int('min_samples_split', 2, 150),\n",
    "        'min_samples_leaf': trial.suggest_int('min_samples_leaf', 1, 60),\n",
    "    }\n",
    "    \n",
    "    model = RandomForestClassifier(**param)\n",
    "    X_train, X_test, y_train, y_test = train_test_split(X, y, test_size=0.25, random_state=42)    \n",
    "    model.fit(X_train,y_train,\n",
    "        #verbose=False,\n",
    "    )\n",
    "\n",
    "    y_pred = model.predict(X_test)\n",
    "\n",
    "    score = accuracy_score(y_test, y_pred)\n",
    "\n",
    "    return score"
   ]
  },
  {
   "cell_type": "code",
   "execution_count": 11,
   "metadata": {
    "colab": {
     "base_uri": "https://localhost:8080/"
    },
    "id": "oLu2t_YHuyw_",
    "outputId": "33a34a63-957e-44ba-9dd4-f93c3a858763"
   },
   "outputs": [
    {
     "name": "stderr",
     "output_type": "stream",
     "text": [
      "\u001b[32m[I 2022-04-24 06:37:42,693]\u001b[0m A new study created in memory with name: no-name-2e6f0528-f0a6-4670-ab86-e12ac271ed4d\u001b[0m\n",
      "\u001b[32m[I 2022-04-24 06:38:08,591]\u001b[0m Trial 0 finished with value: 0.9116 and parameters: {'n_estimators': 1213, 'max_depth': 48, 'min_samples_split': 114, 'min_samples_leaf': 16}. Best is trial 0 with value: 0.9116.\u001b[0m\n",
      "\u001b[32m[I 2022-04-24 06:38:57,286]\u001b[0m Trial 1 finished with value: 0.8988 and parameters: {'n_estimators': 2560, 'max_depth': 24, 'min_samples_split': 134, 'min_samples_leaf': 31}. Best is trial 0 with value: 0.9116.\u001b[0m\n",
      "\u001b[32m[I 2022-04-24 06:39:49,365]\u001b[0m Trial 2 finished with value: 0.8972 and parameters: {'n_estimators': 2796, 'max_depth': 23, 'min_samples_split': 46, 'min_samples_leaf': 51}. Best is trial 0 with value: 0.9116.\u001b[0m\n",
      "\u001b[32m[I 2022-04-24 06:40:29,374]\u001b[0m Trial 3 finished with value: 0.922 and parameters: {'n_estimators': 1726, 'max_depth': 22, 'min_samples_split': 80, 'min_samples_leaf': 6}. Best is trial 3 with value: 0.922.\u001b[0m\n",
      "\u001b[32m[I 2022-04-24 06:41:04,069]\u001b[0m Trial 4 finished with value: 0.8944 and parameters: {'n_estimators': 1970, 'max_depth': 17, 'min_samples_split': 143, 'min_samples_leaf': 40}. Best is trial 3 with value: 0.922.\u001b[0m\n",
      "\u001b[32m[I 2022-04-24 06:41:57,815]\u001b[0m Trial 5 finished with value: 0.9184 and parameters: {'n_estimators': 2587, 'max_depth': 45, 'min_samples_split': 65, 'min_samples_leaf': 25}. Best is trial 3 with value: 0.922.\u001b[0m\n",
      "\u001b[32m[I 2022-04-24 06:42:49,438]\u001b[0m Trial 6 finished with value: 0.9152 and parameters: {'n_estimators': 2433, 'max_depth': 17, 'min_samples_split': 121, 'min_samples_leaf': 9}. Best is trial 3 with value: 0.922.\u001b[0m\n",
      "\u001b[32m[I 2022-04-24 06:43:14,984]\u001b[0m Trial 7 finished with value: 0.894 and parameters: {'n_estimators': 1378, 'max_depth': 27, 'min_samples_split': 35, 'min_samples_leaf': 56}. Best is trial 3 with value: 0.922.\u001b[0m\n",
      "\u001b[32m[I 2022-04-24 06:43:56,238]\u001b[0m Trial 8 finished with value: 0.9116 and parameters: {'n_estimators': 2001, 'max_depth': 31, 'min_samples_split': 83, 'min_samples_leaf': 30}. Best is trial 3 with value: 0.922.\u001b[0m\n",
      "\u001b[32m[I 2022-04-24 06:44:30,056]\u001b[0m Trial 9 finished with value: 0.8904 and parameters: {'n_estimators': 1952, 'max_depth': 37, 'min_samples_split': 150, 'min_samples_leaf': 51}. Best is trial 3 with value: 0.922.\u001b[0m\n",
      "\u001b[32m[I 2022-04-24 06:44:43,318]\u001b[0m Trial 10 finished with value: 0.8672 and parameters: {'n_estimators': 857, 'max_depth': 5, 'min_samples_split': 8, 'min_samples_leaf': 4}. Best is trial 3 with value: 0.922.\u001b[0m\n",
      "\u001b[32m[I 2022-04-24 06:45:18,104]\u001b[0m Trial 11 finished with value: 0.918 and parameters: {'n_estimators': 1547, 'max_depth': 50, 'min_samples_split': 81, 'min_samples_leaf': 16}. Best is trial 3 with value: 0.922.\u001b[0m\n",
      "\u001b[32m[I 2022-04-24 06:46:21,300]\u001b[0m Trial 12 finished with value: 0.9176 and parameters: {'n_estimators': 2925, 'max_depth': 40, 'min_samples_split': 61, 'min_samples_leaf': 25}. Best is trial 3 with value: 0.922.\u001b[0m\n",
      "\u001b[32m[I 2022-04-24 06:47:09,321]\u001b[0m Trial 13 finished with value: 0.9156 and parameters: {'n_estimators': 2263, 'max_depth': 9, 'min_samples_split': 95, 'min_samples_leaf': 2}. Best is trial 3 with value: 0.922.\u001b[0m\n",
      "\u001b[32m[I 2022-04-24 06:47:45,326]\u001b[0m Trial 14 finished with value: 0.9216 and parameters: {'n_estimators': 1679, 'max_depth': 36, 'min_samples_split': 58, 'min_samples_leaf': 18}. Best is trial 3 with value: 0.922.\u001b[0m\n",
      "\u001b[32m[I 2022-04-24 06:48:25,162]\u001b[0m Trial 15 finished with value: 0.9308 and parameters: {'n_estimators': 1648, 'max_depth': 34, 'min_samples_split': 28, 'min_samples_leaf': 14}. Best is trial 15 with value: 0.9308.\u001b[0m\n",
      "\u001b[32m[I 2022-04-24 06:48:53,611]\u001b[0m Trial 16 finished with value: 0.938 and parameters: {'n_estimators': 1113, 'max_depth': 31, 'min_samples_split': 15, 'min_samples_leaf': 10}. Best is trial 16 with value: 0.938.\u001b[0m\n",
      "\u001b[32m[I 2022-04-24 06:49:17,485]\u001b[0m Trial 17 finished with value: 0.9332 and parameters: {'n_estimators': 987, 'max_depth': 32, 'min_samples_split': 4, 'min_samples_leaf': 12}. Best is trial 16 with value: 0.938.\u001b[0m\n",
      "\u001b[32m[I 2022-04-24 06:49:35,142]\u001b[0m Trial 18 finished with value: 0.9376 and parameters: {'n_estimators': 730, 'max_depth': 42, 'min_samples_split': 2, 'min_samples_leaf': 10}. Best is trial 16 with value: 0.938.\u001b[0m\n",
      "\u001b[32m[I 2022-04-24 06:49:48,608]\u001b[0m Trial 19 finished with value: 0.9032 and parameters: {'n_estimators': 726, 'max_depth': 39, 'min_samples_split': 22, 'min_samples_leaf': 42}. Best is trial 16 with value: 0.938.\u001b[0m\n",
      "\u001b[32m[I 2022-04-24 06:50:12,564]\u001b[0m Trial 20 finished with value: 0.9224 and parameters: {'n_estimators': 1117, 'max_depth': 44, 'min_samples_split': 16, 'min_samples_leaf': 22}. Best is trial 16 with value: 0.938.\u001b[0m\n",
      "\u001b[32m[I 2022-04-24 06:50:36,679]\u001b[0m Trial 21 finished with value: 0.9352 and parameters: {'n_estimators': 988, 'max_depth': 30, 'min_samples_split': 10, 'min_samples_leaf': 10}. Best is trial 16 with value: 0.938.\u001b[0m\n",
      "\u001b[32m[I 2022-04-24 06:50:54,755]\u001b[0m Trial 22 finished with value: 0.9312 and parameters: {'n_estimators': 741, 'max_depth': 27, 'min_samples_split': 40, 'min_samples_leaf': 9}. Best is trial 16 with value: 0.938.\u001b[0m\n",
      "\u001b[32m[I 2022-04-24 06:51:36,851]\u001b[0m Trial 23 finished with value: 0.954 and parameters: {'n_estimators': 1296, 'max_depth': 42, 'min_samples_split': 3, 'min_samples_leaf': 1}. Best is trial 23 with value: 0.954.\u001b[0m\n",
      "\u001b[32m[I 2022-04-24 06:52:17,646]\u001b[0m Trial 24 finished with value: 0.956 and parameters: {'n_estimators': 1286, 'max_depth': 43, 'min_samples_split': 3, 'min_samples_leaf': 1}. Best is trial 24 with value: 0.956.\u001b[0m\n",
      "\u001b[32m[I 2022-04-24 06:52:52,883]\u001b[0m Trial 25 finished with value: 0.9436 and parameters: {'n_estimators': 1279, 'max_depth': 47, 'min_samples_split': 23, 'min_samples_leaf': 2}. Best is trial 24 with value: 0.956.\u001b[0m\n",
      "\u001b[32m[I 2022-04-24 06:53:29,467]\u001b[0m Trial 26 finished with value: 0.9424 and parameters: {'n_estimators': 1334, 'max_depth': 46, 'min_samples_split': 27, 'min_samples_leaf': 2}. Best is trial 24 with value: 0.956.\u001b[0m\n",
      "\u001b[32m[I 2022-04-24 06:54:07,715]\u001b[0m Trial 27 finished with value: 0.9404 and parameters: {'n_estimators': 1437, 'max_depth': 50, 'min_samples_split': 43, 'min_samples_leaf': 1}. Best is trial 24 with value: 0.956.\u001b[0m\n",
      "\u001b[32m[I 2022-04-24 06:54:39,448]\u001b[0m Trial 28 finished with value: 0.9404 and parameters: {'n_estimators': 1256, 'max_depth': 42, 'min_samples_split': 24, 'min_samples_leaf': 5}. Best is trial 24 with value: 0.956.\u001b[0m\n",
      "\u001b[32m[I 2022-04-24 06:55:07,737]\u001b[0m Trial 29 finished with value: 0.9124 and parameters: {'n_estimators': 1489, 'max_depth': 47, 'min_samples_split': 101, 'min_samples_leaf': 19}. Best is trial 24 with value: 0.956.\u001b[0m\n",
      "\u001b[32m[I 2022-04-24 06:55:34,051]\u001b[0m Trial 30 finished with value: 0.93 and parameters: {'n_estimators': 1151, 'max_depth': 42, 'min_samples_split': 54, 'min_samples_leaf': 7}. Best is trial 24 with value: 0.956.\u001b[0m\n",
      "\u001b[32m[I 2022-04-24 06:56:08,035]\u001b[0m Trial 31 finished with value: 0.942 and parameters: {'n_estimators': 1307, 'max_depth': 47, 'min_samples_split': 30, 'min_samples_leaf': 2}. Best is trial 24 with value: 0.956.\u001b[0m\n",
      "\u001b[32m[I 2022-04-24 06:56:36,167]\u001b[0m Trial 32 finished with value: 0.9464 and parameters: {'n_estimators': 999, 'max_depth': 45, 'min_samples_split': 20, 'min_samples_leaf': 1}. Best is trial 24 with value: 0.956.\u001b[0m\n",
      "\u001b[32m[I 2022-04-24 06:57:01,959]\u001b[0m Trial 33 finished with value: 0.9448 and parameters: {'n_estimators': 946, 'max_depth': 39, 'min_samples_split': 16, 'min_samples_leaf': 4}. Best is trial 24 with value: 0.956.\u001b[0m\n",
      "\u001b[32m[I 2022-04-24 06:57:27,424]\u001b[0m Trial 34 finished with value: 0.9432 and parameters: {'n_estimators': 943, 'max_depth': 39, 'min_samples_split': 14, 'min_samples_leaf': 6}. Best is trial 24 with value: 0.956.\u001b[0m\n",
      "\u001b[32m[I 2022-04-24 06:57:47,088]\u001b[0m Trial 35 finished with value: 0.932 and parameters: {'n_estimators': 858, 'max_depth': 37, 'min_samples_split': 2, 'min_samples_leaf': 14}. Best is trial 24 with value: 0.956.\u001b[0m\n",
      "\u001b[32m[I 2022-04-24 06:58:07,145]\u001b[0m Trial 36 finished with value: 0.9096 and parameters: {'n_estimators': 1044, 'max_depth': 43, 'min_samples_split': 48, 'min_samples_leaf': 38}. Best is trial 24 with value: 0.956.\u001b[0m\n",
      "\u001b[32m[I 2022-04-24 06:58:56,178]\u001b[0m Trial 37 finished with value: 0.9428 and parameters: {'n_estimators': 1818, 'max_depth': 35, 'min_samples_split': 17, 'min_samples_leaf': 5}. Best is trial 24 with value: 0.956.\u001b[0m\n",
      "\u001b[32m[I 2022-04-24 06:59:18,336]\u001b[0m Trial 38 finished with value: 0.934 and parameters: {'n_estimators': 871, 'max_depth': 40, 'min_samples_split': 39, 'min_samples_leaf': 7}. Best is trial 24 with value: 0.956.\u001b[0m\n",
      "\u001b[32m[I 2022-04-24 06:59:49,746]\u001b[0m Trial 39 finished with value: 0.9304 and parameters: {'n_estimators': 1209, 'max_depth': 19, 'min_samples_split': 68, 'min_samples_leaf': 1}. Best is trial 24 with value: 0.956.\u001b[0m\n",
      "\u001b[32m[I 2022-04-24 07:00:27,080]\u001b[0m Trial 40 finished with value: 0.932 and parameters: {'n_estimators': 1530, 'max_depth': 45, 'min_samples_split': 34, 'min_samples_leaf': 12}. Best is trial 24 with value: 0.956.\u001b[0m\n",
      "\u001b[32m[I 2022-04-24 07:01:00,656]\u001b[0m Trial 41 finished with value: 0.9412 and parameters: {'n_estimators': 1187, 'max_depth': 49, 'min_samples_split': 20, 'min_samples_leaf': 4}. Best is trial 24 with value: 0.956.\u001b[0m\n",
      "\u001b[32m[I 2022-04-24 07:01:42,661]\u001b[0m Trial 42 finished with value: 0.9508 and parameters: {'n_estimators': 1339, 'max_depth': 48, 'min_samples_split': 10, 'min_samples_leaf': 1}. Best is trial 24 with value: 0.956.\u001b[0m\n",
      "\u001b[32m[I 2022-04-24 07:02:20,388]\u001b[0m Trial 43 finished with value: 0.9404 and parameters: {'n_estimators': 1396, 'max_depth': 44, 'min_samples_split': 10, 'min_samples_leaf': 8}. Best is trial 24 with value: 0.956.\u001b[0m\n",
      "\u001b[32m[I 2022-04-24 07:02:51,997]\u001b[0m Trial 44 finished with value: 0.946 and parameters: {'n_estimators': 1094, 'max_depth': 48, 'min_samples_split': 10, 'min_samples_leaf': 4}. Best is trial 24 with value: 0.956.\u001b[0m\n",
      "\u001b[32m[I 2022-04-24 07:04:02,599]\u001b[0m Trial 45 finished with value: 0.9516 and parameters: {'n_estimators': 2171, 'max_depth': 49, 'min_samples_split': 9, 'min_samples_leaf': 1}. Best is trial 24 with value: 0.956.\u001b[0m\n",
      "\u001b[32m[I 2022-04-24 07:04:50,653]\u001b[0m Trial 46 finished with value: 0.92 and parameters: {'n_estimators': 2110, 'max_depth': 50, 'min_samples_split': 119, 'min_samples_leaf': 1}. Best is trial 24 with value: 0.956.\u001b[0m\n",
      "\u001b[32m[I 2022-04-24 07:05:36,387]\u001b[0m Trial 47 finished with value: 0.914 and parameters: {'n_estimators': 2138, 'max_depth': 45, 'min_samples_split': 2, 'min_samples_leaf': 30}. Best is trial 24 with value: 0.956.\u001b[0m\n",
      "\u001b[32m[I 2022-04-24 07:06:38,701]\u001b[0m Trial 48 finished with value: 0.9308 and parameters: {'n_estimators': 2655, 'max_depth': 13, 'min_samples_split': 33, 'min_samples_leaf': 13}. Best is trial 24 with value: 0.956.\u001b[0m\n",
      "\u001b[32m[I 2022-04-24 07:07:14,356]\u001b[0m Trial 49 finished with value: 0.91 and parameters: {'n_estimators': 1803, 'max_depth': 48, 'min_samples_split': 9, 'min_samples_leaf': 36}. Best is trial 24 with value: 0.956.\u001b[0m\n"
     ]
    },
    {
     "name": "stdout",
     "output_type": "stream",
     "text": [
      "Best trial: score 0.956,\n",
      "params {'n_estimators': 1286, 'max_depth': 43, 'min_samples_split': 3, 'min_samples_leaf': 1}\n"
     ]
    }
   ],
   "source": [
    "# direction : 목표 값을 최대화할 것인지, 최소화할 것인지에 대한 설정\n",
    "study = optuna.create_study(direction='maximize',sampler=TPESampler())\n",
    "\n",
    "# n_trials : 시도 횟수\n",
    "study.optimize(lambda trial : objectiveRF(trial, X,  y), n_trials=50)\n",
    "print(f'Best trial: score {study.best_trial.value},\\nparams {study.best_trial.params}')"
   ]
  },
  {
   "cell_type": "code",
   "execution_count": 12,
   "metadata": {
    "colab": {
     "base_uri": "https://localhost:8080/"
    },
    "id": "xIN6uCx4w-YD",
    "outputId": "b2448e06-0a20-4ac8-db50-211bcfe58911"
   },
   "outputs": [
    {
     "name": "stdout",
     "output_type": "stream",
     "text": [
      "1.0\n",
      "0.9552\n"
     ]
    }
   ],
   "source": [
    "classifier = RandomForestClassifier(**study.best_params)\n",
    "X_train, X_test, y_train, y_test = train_test_split(X, y, test_size=0.25, random_state=42)\n",
    "classifier.fit(X_train, y_train)\n",
    "y_pred = classifier.predict(X_test)\n",
    "print(accuracy_score(y_train, classifier.predict(X_train)))\n",
    "print(accuracy_score(y_test, y_pred))"
   ]
  },
  {
   "cell_type": "code",
   "execution_count": 13,
   "metadata": {
    "colab": {
     "base_uri": "https://localhost:8080/",
     "height": 542
    },
    "id": "GKr8if-I2eWm",
    "outputId": "fff278b1-e94f-4978-f1b3-1d0c1926dc0f"
   },
   "outputs": [
    {
     "data": {
      "text/html": [
       "<html>\n",
       "<head><meta charset=\"utf-8\" /></head>\n",
       "<body>\n",
       "    <div>            <script src=\"https://cdnjs.cloudflare.com/ajax/libs/mathjax/2.7.5/MathJax.js?config=TeX-AMS-MML_SVG\"></script><script type=\"text/javascript\">if (window.MathJax) {MathJax.Hub.Config({SVG: {font: \"STIX-Web\"}});}</script>                <script type=\"text/javascript\">window.PlotlyConfig = {MathJaxConfig: 'local'};</script>\n",
       "        <script src=\"https://cdn.plot.ly/plotly-2.8.3.min.js\"></script>                <div id=\"a7083285-8513-4bb0-a02d-fe6733fbf858\" class=\"plotly-graph-div\" style=\"height:525px; width:100%;\"></div>            <script type=\"text/javascript\">                                    window.PLOTLYENV=window.PLOTLYENV || {};                                    if (document.getElementById(\"a7083285-8513-4bb0-a02d-fe6733fbf858\")) {                    Plotly.newPlot(                        \"a7083285-8513-4bb0-a02d-fe6733fbf858\",                        [{\"cliponaxis\":false,\"hovertemplate\":[\"n_estimators (IntUniformDistribution): 0.015038260162922725<extra></extra>\",\"min_samples_split (IntUniformDistribution): 0.07135503874375466<extra></extra>\",\"max_depth (IntUniformDistribution): 0.22803178069976712<extra></extra>\",\"min_samples_leaf (IntUniformDistribution): 0.6855749203935555<extra></extra>\"],\"marker\":{\"color\":\"rgb(66,146,198)\"},\"orientation\":\"h\",\"text\":[\"0.015038260162922725\",\"0.07135503874375466\",\"0.22803178069976712\",\"0.6855749203935555\"],\"textposition\":\"outside\",\"texttemplate\":\"%{text:.2f}\",\"x\":[0.015038260162922725,0.07135503874375466,0.22803178069976712,0.6855749203935555],\"y\":[\"n_estimators\",\"min_samples_split\",\"max_depth\",\"min_samples_leaf\"],\"type\":\"bar\"}],                        {\"showlegend\":false,\"title\":{\"text\":\"Hyperparameter Importances\"},\"xaxis\":{\"title\":{\"text\":\"Importance for Objective Value\"}},\"yaxis\":{\"title\":{\"text\":\"Hyperparameter\"}},\"template\":{\"data\":{\"bar\":[{\"error_x\":{\"color\":\"#2a3f5f\"},\"error_y\":{\"color\":\"#2a3f5f\"},\"marker\":{\"line\":{\"color\":\"#E5ECF6\",\"width\":0.5},\"pattern\":{\"fillmode\":\"overlay\",\"size\":10,\"solidity\":0.2}},\"type\":\"bar\"}],\"barpolar\":[{\"marker\":{\"line\":{\"color\":\"#E5ECF6\",\"width\":0.5},\"pattern\":{\"fillmode\":\"overlay\",\"size\":10,\"solidity\":0.2}},\"type\":\"barpolar\"}],\"carpet\":[{\"aaxis\":{\"endlinecolor\":\"#2a3f5f\",\"gridcolor\":\"white\",\"linecolor\":\"white\",\"minorgridcolor\":\"white\",\"startlinecolor\":\"#2a3f5f\"},\"baxis\":{\"endlinecolor\":\"#2a3f5f\",\"gridcolor\":\"white\",\"linecolor\":\"white\",\"minorgridcolor\":\"white\",\"startlinecolor\":\"#2a3f5f\"},\"type\":\"carpet\"}],\"choropleth\":[{\"colorbar\":{\"outlinewidth\":0,\"ticks\":\"\"},\"type\":\"choropleth\"}],\"contour\":[{\"colorbar\":{\"outlinewidth\":0,\"ticks\":\"\"},\"colorscale\":[[0.0,\"#0d0887\"],[0.1111111111111111,\"#46039f\"],[0.2222222222222222,\"#7201a8\"],[0.3333333333333333,\"#9c179e\"],[0.4444444444444444,\"#bd3786\"],[0.5555555555555556,\"#d8576b\"],[0.6666666666666666,\"#ed7953\"],[0.7777777777777778,\"#fb9f3a\"],[0.8888888888888888,\"#fdca26\"],[1.0,\"#f0f921\"]],\"type\":\"contour\"}],\"contourcarpet\":[{\"colorbar\":{\"outlinewidth\":0,\"ticks\":\"\"},\"type\":\"contourcarpet\"}],\"heatmap\":[{\"colorbar\":{\"outlinewidth\":0,\"ticks\":\"\"},\"colorscale\":[[0.0,\"#0d0887\"],[0.1111111111111111,\"#46039f\"],[0.2222222222222222,\"#7201a8\"],[0.3333333333333333,\"#9c179e\"],[0.4444444444444444,\"#bd3786\"],[0.5555555555555556,\"#d8576b\"],[0.6666666666666666,\"#ed7953\"],[0.7777777777777778,\"#fb9f3a\"],[0.8888888888888888,\"#fdca26\"],[1.0,\"#f0f921\"]],\"type\":\"heatmap\"}],\"heatmapgl\":[{\"colorbar\":{\"outlinewidth\":0,\"ticks\":\"\"},\"colorscale\":[[0.0,\"#0d0887\"],[0.1111111111111111,\"#46039f\"],[0.2222222222222222,\"#7201a8\"],[0.3333333333333333,\"#9c179e\"],[0.4444444444444444,\"#bd3786\"],[0.5555555555555556,\"#d8576b\"],[0.6666666666666666,\"#ed7953\"],[0.7777777777777778,\"#fb9f3a\"],[0.8888888888888888,\"#fdca26\"],[1.0,\"#f0f921\"]],\"type\":\"heatmapgl\"}],\"histogram\":[{\"marker\":{\"pattern\":{\"fillmode\":\"overlay\",\"size\":10,\"solidity\":0.2}},\"type\":\"histogram\"}],\"histogram2d\":[{\"colorbar\":{\"outlinewidth\":0,\"ticks\":\"\"},\"colorscale\":[[0.0,\"#0d0887\"],[0.1111111111111111,\"#46039f\"],[0.2222222222222222,\"#7201a8\"],[0.3333333333333333,\"#9c179e\"],[0.4444444444444444,\"#bd3786\"],[0.5555555555555556,\"#d8576b\"],[0.6666666666666666,\"#ed7953\"],[0.7777777777777778,\"#fb9f3a\"],[0.8888888888888888,\"#fdca26\"],[1.0,\"#f0f921\"]],\"type\":\"histogram2d\"}],\"histogram2dcontour\":[{\"colorbar\":{\"outlinewidth\":0,\"ticks\":\"\"},\"colorscale\":[[0.0,\"#0d0887\"],[0.1111111111111111,\"#46039f\"],[0.2222222222222222,\"#7201a8\"],[0.3333333333333333,\"#9c179e\"],[0.4444444444444444,\"#bd3786\"],[0.5555555555555556,\"#d8576b\"],[0.6666666666666666,\"#ed7953\"],[0.7777777777777778,\"#fb9f3a\"],[0.8888888888888888,\"#fdca26\"],[1.0,\"#f0f921\"]],\"type\":\"histogram2dcontour\"}],\"mesh3d\":[{\"colorbar\":{\"outlinewidth\":0,\"ticks\":\"\"},\"type\":\"mesh3d\"}],\"parcoords\":[{\"line\":{\"colorbar\":{\"outlinewidth\":0,\"ticks\":\"\"}},\"type\":\"parcoords\"}],\"pie\":[{\"automargin\":true,\"type\":\"pie\"}],\"scatter\":[{\"marker\":{\"colorbar\":{\"outlinewidth\":0,\"ticks\":\"\"}},\"type\":\"scatter\"}],\"scatter3d\":[{\"line\":{\"colorbar\":{\"outlinewidth\":0,\"ticks\":\"\"}},\"marker\":{\"colorbar\":{\"outlinewidth\":0,\"ticks\":\"\"}},\"type\":\"scatter3d\"}],\"scattercarpet\":[{\"marker\":{\"colorbar\":{\"outlinewidth\":0,\"ticks\":\"\"}},\"type\":\"scattercarpet\"}],\"scattergeo\":[{\"marker\":{\"colorbar\":{\"outlinewidth\":0,\"ticks\":\"\"}},\"type\":\"scattergeo\"}],\"scattergl\":[{\"marker\":{\"colorbar\":{\"outlinewidth\":0,\"ticks\":\"\"}},\"type\":\"scattergl\"}],\"scattermapbox\":[{\"marker\":{\"colorbar\":{\"outlinewidth\":0,\"ticks\":\"\"}},\"type\":\"scattermapbox\"}],\"scatterpolar\":[{\"marker\":{\"colorbar\":{\"outlinewidth\":0,\"ticks\":\"\"}},\"type\":\"scatterpolar\"}],\"scatterpolargl\":[{\"marker\":{\"colorbar\":{\"outlinewidth\":0,\"ticks\":\"\"}},\"type\":\"scatterpolargl\"}],\"scatterternary\":[{\"marker\":{\"colorbar\":{\"outlinewidth\":0,\"ticks\":\"\"}},\"type\":\"scatterternary\"}],\"surface\":[{\"colorbar\":{\"outlinewidth\":0,\"ticks\":\"\"},\"colorscale\":[[0.0,\"#0d0887\"],[0.1111111111111111,\"#46039f\"],[0.2222222222222222,\"#7201a8\"],[0.3333333333333333,\"#9c179e\"],[0.4444444444444444,\"#bd3786\"],[0.5555555555555556,\"#d8576b\"],[0.6666666666666666,\"#ed7953\"],[0.7777777777777778,\"#fb9f3a\"],[0.8888888888888888,\"#fdca26\"],[1.0,\"#f0f921\"]],\"type\":\"surface\"}],\"table\":[{\"cells\":{\"fill\":{\"color\":\"#EBF0F8\"},\"line\":{\"color\":\"white\"}},\"header\":{\"fill\":{\"color\":\"#C8D4E3\"},\"line\":{\"color\":\"white\"}},\"type\":\"table\"}]},\"layout\":{\"annotationdefaults\":{\"arrowcolor\":\"#2a3f5f\",\"arrowhead\":0,\"arrowwidth\":1},\"autotypenumbers\":\"strict\",\"coloraxis\":{\"colorbar\":{\"outlinewidth\":0,\"ticks\":\"\"}},\"colorscale\":{\"diverging\":[[0,\"#8e0152\"],[0.1,\"#c51b7d\"],[0.2,\"#de77ae\"],[0.3,\"#f1b6da\"],[0.4,\"#fde0ef\"],[0.5,\"#f7f7f7\"],[0.6,\"#e6f5d0\"],[0.7,\"#b8e186\"],[0.8,\"#7fbc41\"],[0.9,\"#4d9221\"],[1,\"#276419\"]],\"sequential\":[[0.0,\"#0d0887\"],[0.1111111111111111,\"#46039f\"],[0.2222222222222222,\"#7201a8\"],[0.3333333333333333,\"#9c179e\"],[0.4444444444444444,\"#bd3786\"],[0.5555555555555556,\"#d8576b\"],[0.6666666666666666,\"#ed7953\"],[0.7777777777777778,\"#fb9f3a\"],[0.8888888888888888,\"#fdca26\"],[1.0,\"#f0f921\"]],\"sequentialminus\":[[0.0,\"#0d0887\"],[0.1111111111111111,\"#46039f\"],[0.2222222222222222,\"#7201a8\"],[0.3333333333333333,\"#9c179e\"],[0.4444444444444444,\"#bd3786\"],[0.5555555555555556,\"#d8576b\"],[0.6666666666666666,\"#ed7953\"],[0.7777777777777778,\"#fb9f3a\"],[0.8888888888888888,\"#fdca26\"],[1.0,\"#f0f921\"]]},\"colorway\":[\"#636efa\",\"#EF553B\",\"#00cc96\",\"#ab63fa\",\"#FFA15A\",\"#19d3f3\",\"#FF6692\",\"#B6E880\",\"#FF97FF\",\"#FECB52\"],\"font\":{\"color\":\"#2a3f5f\"},\"geo\":{\"bgcolor\":\"white\",\"lakecolor\":\"white\",\"landcolor\":\"#E5ECF6\",\"showlakes\":true,\"showland\":true,\"subunitcolor\":\"white\"},\"hoverlabel\":{\"align\":\"left\"},\"hovermode\":\"closest\",\"mapbox\":{\"style\":\"light\"},\"paper_bgcolor\":\"white\",\"plot_bgcolor\":\"#E5ECF6\",\"polar\":{\"angularaxis\":{\"gridcolor\":\"white\",\"linecolor\":\"white\",\"ticks\":\"\"},\"bgcolor\":\"#E5ECF6\",\"radialaxis\":{\"gridcolor\":\"white\",\"linecolor\":\"white\",\"ticks\":\"\"}},\"scene\":{\"xaxis\":{\"backgroundcolor\":\"#E5ECF6\",\"gridcolor\":\"white\",\"gridwidth\":2,\"linecolor\":\"white\",\"showbackground\":true,\"ticks\":\"\",\"zerolinecolor\":\"white\"},\"yaxis\":{\"backgroundcolor\":\"#E5ECF6\",\"gridcolor\":\"white\",\"gridwidth\":2,\"linecolor\":\"white\",\"showbackground\":true,\"ticks\":\"\",\"zerolinecolor\":\"white\"},\"zaxis\":{\"backgroundcolor\":\"#E5ECF6\",\"gridcolor\":\"white\",\"gridwidth\":2,\"linecolor\":\"white\",\"showbackground\":true,\"ticks\":\"\",\"zerolinecolor\":\"white\"}},\"shapedefaults\":{\"line\":{\"color\":\"#2a3f5f\"}},\"ternary\":{\"aaxis\":{\"gridcolor\":\"white\",\"linecolor\":\"white\",\"ticks\":\"\"},\"baxis\":{\"gridcolor\":\"white\",\"linecolor\":\"white\",\"ticks\":\"\"},\"bgcolor\":\"#E5ECF6\",\"caxis\":{\"gridcolor\":\"white\",\"linecolor\":\"white\",\"ticks\":\"\"}},\"title\":{\"x\":0.05},\"xaxis\":{\"automargin\":true,\"gridcolor\":\"white\",\"linecolor\":\"white\",\"ticks\":\"\",\"title\":{\"standoff\":15},\"zerolinecolor\":\"white\",\"zerolinewidth\":2},\"yaxis\":{\"automargin\":true,\"gridcolor\":\"white\",\"linecolor\":\"white\",\"ticks\":\"\",\"title\":{\"standoff\":15},\"zerolinecolor\":\"white\",\"zerolinewidth\":2}}}},                        {\"responsive\": true}                    ).then(function(){\n",
       "                            \n",
       "var gd = document.getElementById('a7083285-8513-4bb0-a02d-fe6733fbf858');\n",
       "var x = new MutationObserver(function (mutations, observer) {{\n",
       "        var display = window.getComputedStyle(gd).display;\n",
       "        if (!display || display === 'none') {{\n",
       "            console.log([gd, 'removed!']);\n",
       "            Plotly.purge(gd);\n",
       "            observer.disconnect();\n",
       "        }}\n",
       "}});\n",
       "\n",
       "// Listen for the removal of the full notebook cells\n",
       "var notebookContainer = gd.closest('#notebook-container');\n",
       "if (notebookContainer) {{\n",
       "    x.observe(notebookContainer, {childList: true});\n",
       "}}\n",
       "\n",
       "// Listen for the clearing of the current output cell\n",
       "var outputEl = gd.closest('.output');\n",
       "if (outputEl) {{\n",
       "    x.observe(outputEl, {childList: true});\n",
       "}}\n",
       "\n",
       "                        })                };                            </script>        </div>\n",
       "</body>\n",
       "</html>"
      ]
     },
     "metadata": {},
     "output_type": "display_data"
    }
   ],
   "source": [
    "# 하이퍼파라미터별 중요도를 확인할 수 있는 그래프\n",
    "optuna.visualization.plot_param_importances(study)\n"
   ]
  },
  {
   "cell_type": "code",
   "execution_count": 14,
   "metadata": {
    "colab": {
     "base_uri": "https://localhost:8080/",
     "height": 542
    },
    "id": "4ejcm5CkfP40",
    "outputId": "be5ce8e3-94be-4f90-9eca-e3f32a4577d0"
   },
   "outputs": [
    {
     "data": {
      "text/html": [
       "<html>\n",
       "<head><meta charset=\"utf-8\" /></head>\n",
       "<body>\n",
       "    <div>            <script src=\"https://cdnjs.cloudflare.com/ajax/libs/mathjax/2.7.5/MathJax.js?config=TeX-AMS-MML_SVG\"></script><script type=\"text/javascript\">if (window.MathJax) {MathJax.Hub.Config({SVG: {font: \"STIX-Web\"}});}</script>                <script type=\"text/javascript\">window.PlotlyConfig = {MathJaxConfig: 'local'};</script>\n",
       "        <script src=\"https://cdn.plot.ly/plotly-2.8.3.min.js\"></script>                <div id=\"b32e51a5-b9b4-414e-a079-424c0bdbb1a9\" class=\"plotly-graph-div\" style=\"height:525px; width:100%;\"></div>            <script type=\"text/javascript\">                                    window.PLOTLYENV=window.PLOTLYENV || {};                                    if (document.getElementById(\"b32e51a5-b9b4-414e-a079-424c0bdbb1a9\")) {                    Plotly.newPlot(                        \"b32e51a5-b9b4-414e-a079-424c0bdbb1a9\",                        [{\"mode\":\"markers\",\"name\":\"Objective Value\",\"x\":[0,1,2,3,4,5,6,7,8,9,10,11,12,13,14,15,16,17,18,19,20,21,22,23,24,25,26,27,28,29,30,31,32,33,34,35,36,37,38,39,40,41,42,43,44,45,46,47,48,49],\"y\":[0.9116,0.8988,0.8972,0.922,0.8944,0.9184,0.9152,0.894,0.9116,0.8904,0.8672,0.918,0.9176,0.9156,0.9216,0.9308,0.938,0.9332,0.9376,0.9032,0.9224,0.9352,0.9312,0.954,0.956,0.9436,0.9424,0.9404,0.9404,0.9124,0.93,0.942,0.9464,0.9448,0.9432,0.932,0.9096,0.9428,0.934,0.9304,0.932,0.9412,0.9508,0.9404,0.946,0.9516,0.92,0.914,0.9308,0.91],\"type\":\"scatter\"},{\"name\":\"Best Value\",\"x\":[0,1,2,3,4,5,6,7,8,9,10,11,12,13,14,15,16,17,18,19,20,21,22,23,24,25,26,27,28,29,30,31,32,33,34,35,36,37,38,39,40,41,42,43,44,45,46,47,48,49],\"y\":[0.9116,0.9116,0.9116,0.922,0.922,0.922,0.922,0.922,0.922,0.922,0.922,0.922,0.922,0.922,0.922,0.9308,0.938,0.938,0.938,0.938,0.938,0.938,0.938,0.954,0.956,0.956,0.956,0.956,0.956,0.956,0.956,0.956,0.956,0.956,0.956,0.956,0.956,0.956,0.956,0.956,0.956,0.956,0.956,0.956,0.956,0.956,0.956,0.956,0.956,0.956],\"type\":\"scatter\"}],                        {\"title\":{\"text\":\"Optimization History Plot\"},\"xaxis\":{\"title\":{\"text\":\"#Trials\"}},\"yaxis\":{\"title\":{\"text\":\"Objective Value\"}},\"template\":{\"data\":{\"bar\":[{\"error_x\":{\"color\":\"#2a3f5f\"},\"error_y\":{\"color\":\"#2a3f5f\"},\"marker\":{\"line\":{\"color\":\"#E5ECF6\",\"width\":0.5},\"pattern\":{\"fillmode\":\"overlay\",\"size\":10,\"solidity\":0.2}},\"type\":\"bar\"}],\"barpolar\":[{\"marker\":{\"line\":{\"color\":\"#E5ECF6\",\"width\":0.5},\"pattern\":{\"fillmode\":\"overlay\",\"size\":10,\"solidity\":0.2}},\"type\":\"barpolar\"}],\"carpet\":[{\"aaxis\":{\"endlinecolor\":\"#2a3f5f\",\"gridcolor\":\"white\",\"linecolor\":\"white\",\"minorgridcolor\":\"white\",\"startlinecolor\":\"#2a3f5f\"},\"baxis\":{\"endlinecolor\":\"#2a3f5f\",\"gridcolor\":\"white\",\"linecolor\":\"white\",\"minorgridcolor\":\"white\",\"startlinecolor\":\"#2a3f5f\"},\"type\":\"carpet\"}],\"choropleth\":[{\"colorbar\":{\"outlinewidth\":0,\"ticks\":\"\"},\"type\":\"choropleth\"}],\"contour\":[{\"colorbar\":{\"outlinewidth\":0,\"ticks\":\"\"},\"colorscale\":[[0.0,\"#0d0887\"],[0.1111111111111111,\"#46039f\"],[0.2222222222222222,\"#7201a8\"],[0.3333333333333333,\"#9c179e\"],[0.4444444444444444,\"#bd3786\"],[0.5555555555555556,\"#d8576b\"],[0.6666666666666666,\"#ed7953\"],[0.7777777777777778,\"#fb9f3a\"],[0.8888888888888888,\"#fdca26\"],[1.0,\"#f0f921\"]],\"type\":\"contour\"}],\"contourcarpet\":[{\"colorbar\":{\"outlinewidth\":0,\"ticks\":\"\"},\"type\":\"contourcarpet\"}],\"heatmap\":[{\"colorbar\":{\"outlinewidth\":0,\"ticks\":\"\"},\"colorscale\":[[0.0,\"#0d0887\"],[0.1111111111111111,\"#46039f\"],[0.2222222222222222,\"#7201a8\"],[0.3333333333333333,\"#9c179e\"],[0.4444444444444444,\"#bd3786\"],[0.5555555555555556,\"#d8576b\"],[0.6666666666666666,\"#ed7953\"],[0.7777777777777778,\"#fb9f3a\"],[0.8888888888888888,\"#fdca26\"],[1.0,\"#f0f921\"]],\"type\":\"heatmap\"}],\"heatmapgl\":[{\"colorbar\":{\"outlinewidth\":0,\"ticks\":\"\"},\"colorscale\":[[0.0,\"#0d0887\"],[0.1111111111111111,\"#46039f\"],[0.2222222222222222,\"#7201a8\"],[0.3333333333333333,\"#9c179e\"],[0.4444444444444444,\"#bd3786\"],[0.5555555555555556,\"#d8576b\"],[0.6666666666666666,\"#ed7953\"],[0.7777777777777778,\"#fb9f3a\"],[0.8888888888888888,\"#fdca26\"],[1.0,\"#f0f921\"]],\"type\":\"heatmapgl\"}],\"histogram\":[{\"marker\":{\"pattern\":{\"fillmode\":\"overlay\",\"size\":10,\"solidity\":0.2}},\"type\":\"histogram\"}],\"histogram2d\":[{\"colorbar\":{\"outlinewidth\":0,\"ticks\":\"\"},\"colorscale\":[[0.0,\"#0d0887\"],[0.1111111111111111,\"#46039f\"],[0.2222222222222222,\"#7201a8\"],[0.3333333333333333,\"#9c179e\"],[0.4444444444444444,\"#bd3786\"],[0.5555555555555556,\"#d8576b\"],[0.6666666666666666,\"#ed7953\"],[0.7777777777777778,\"#fb9f3a\"],[0.8888888888888888,\"#fdca26\"],[1.0,\"#f0f921\"]],\"type\":\"histogram2d\"}],\"histogram2dcontour\":[{\"colorbar\":{\"outlinewidth\":0,\"ticks\":\"\"},\"colorscale\":[[0.0,\"#0d0887\"],[0.1111111111111111,\"#46039f\"],[0.2222222222222222,\"#7201a8\"],[0.3333333333333333,\"#9c179e\"],[0.4444444444444444,\"#bd3786\"],[0.5555555555555556,\"#d8576b\"],[0.6666666666666666,\"#ed7953\"],[0.7777777777777778,\"#fb9f3a\"],[0.8888888888888888,\"#fdca26\"],[1.0,\"#f0f921\"]],\"type\":\"histogram2dcontour\"}],\"mesh3d\":[{\"colorbar\":{\"outlinewidth\":0,\"ticks\":\"\"},\"type\":\"mesh3d\"}],\"parcoords\":[{\"line\":{\"colorbar\":{\"outlinewidth\":0,\"ticks\":\"\"}},\"type\":\"parcoords\"}],\"pie\":[{\"automargin\":true,\"type\":\"pie\"}],\"scatter\":[{\"marker\":{\"colorbar\":{\"outlinewidth\":0,\"ticks\":\"\"}},\"type\":\"scatter\"}],\"scatter3d\":[{\"line\":{\"colorbar\":{\"outlinewidth\":0,\"ticks\":\"\"}},\"marker\":{\"colorbar\":{\"outlinewidth\":0,\"ticks\":\"\"}},\"type\":\"scatter3d\"}],\"scattercarpet\":[{\"marker\":{\"colorbar\":{\"outlinewidth\":0,\"ticks\":\"\"}},\"type\":\"scattercarpet\"}],\"scattergeo\":[{\"marker\":{\"colorbar\":{\"outlinewidth\":0,\"ticks\":\"\"}},\"type\":\"scattergeo\"}],\"scattergl\":[{\"marker\":{\"colorbar\":{\"outlinewidth\":0,\"ticks\":\"\"}},\"type\":\"scattergl\"}],\"scattermapbox\":[{\"marker\":{\"colorbar\":{\"outlinewidth\":0,\"ticks\":\"\"}},\"type\":\"scattermapbox\"}],\"scatterpolar\":[{\"marker\":{\"colorbar\":{\"outlinewidth\":0,\"ticks\":\"\"}},\"type\":\"scatterpolar\"}],\"scatterpolargl\":[{\"marker\":{\"colorbar\":{\"outlinewidth\":0,\"ticks\":\"\"}},\"type\":\"scatterpolargl\"}],\"scatterternary\":[{\"marker\":{\"colorbar\":{\"outlinewidth\":0,\"ticks\":\"\"}},\"type\":\"scatterternary\"}],\"surface\":[{\"colorbar\":{\"outlinewidth\":0,\"ticks\":\"\"},\"colorscale\":[[0.0,\"#0d0887\"],[0.1111111111111111,\"#46039f\"],[0.2222222222222222,\"#7201a8\"],[0.3333333333333333,\"#9c179e\"],[0.4444444444444444,\"#bd3786\"],[0.5555555555555556,\"#d8576b\"],[0.6666666666666666,\"#ed7953\"],[0.7777777777777778,\"#fb9f3a\"],[0.8888888888888888,\"#fdca26\"],[1.0,\"#f0f921\"]],\"type\":\"surface\"}],\"table\":[{\"cells\":{\"fill\":{\"color\":\"#EBF0F8\"},\"line\":{\"color\":\"white\"}},\"header\":{\"fill\":{\"color\":\"#C8D4E3\"},\"line\":{\"color\":\"white\"}},\"type\":\"table\"}]},\"layout\":{\"annotationdefaults\":{\"arrowcolor\":\"#2a3f5f\",\"arrowhead\":0,\"arrowwidth\":1},\"autotypenumbers\":\"strict\",\"coloraxis\":{\"colorbar\":{\"outlinewidth\":0,\"ticks\":\"\"}},\"colorscale\":{\"diverging\":[[0,\"#8e0152\"],[0.1,\"#c51b7d\"],[0.2,\"#de77ae\"],[0.3,\"#f1b6da\"],[0.4,\"#fde0ef\"],[0.5,\"#f7f7f7\"],[0.6,\"#e6f5d0\"],[0.7,\"#b8e186\"],[0.8,\"#7fbc41\"],[0.9,\"#4d9221\"],[1,\"#276419\"]],\"sequential\":[[0.0,\"#0d0887\"],[0.1111111111111111,\"#46039f\"],[0.2222222222222222,\"#7201a8\"],[0.3333333333333333,\"#9c179e\"],[0.4444444444444444,\"#bd3786\"],[0.5555555555555556,\"#d8576b\"],[0.6666666666666666,\"#ed7953\"],[0.7777777777777778,\"#fb9f3a\"],[0.8888888888888888,\"#fdca26\"],[1.0,\"#f0f921\"]],\"sequentialminus\":[[0.0,\"#0d0887\"],[0.1111111111111111,\"#46039f\"],[0.2222222222222222,\"#7201a8\"],[0.3333333333333333,\"#9c179e\"],[0.4444444444444444,\"#bd3786\"],[0.5555555555555556,\"#d8576b\"],[0.6666666666666666,\"#ed7953\"],[0.7777777777777778,\"#fb9f3a\"],[0.8888888888888888,\"#fdca26\"],[1.0,\"#f0f921\"]]},\"colorway\":[\"#636efa\",\"#EF553B\",\"#00cc96\",\"#ab63fa\",\"#FFA15A\",\"#19d3f3\",\"#FF6692\",\"#B6E880\",\"#FF97FF\",\"#FECB52\"],\"font\":{\"color\":\"#2a3f5f\"},\"geo\":{\"bgcolor\":\"white\",\"lakecolor\":\"white\",\"landcolor\":\"#E5ECF6\",\"showlakes\":true,\"showland\":true,\"subunitcolor\":\"white\"},\"hoverlabel\":{\"align\":\"left\"},\"hovermode\":\"closest\",\"mapbox\":{\"style\":\"light\"},\"paper_bgcolor\":\"white\",\"plot_bgcolor\":\"#E5ECF6\",\"polar\":{\"angularaxis\":{\"gridcolor\":\"white\",\"linecolor\":\"white\",\"ticks\":\"\"},\"bgcolor\":\"#E5ECF6\",\"radialaxis\":{\"gridcolor\":\"white\",\"linecolor\":\"white\",\"ticks\":\"\"}},\"scene\":{\"xaxis\":{\"backgroundcolor\":\"#E5ECF6\",\"gridcolor\":\"white\",\"gridwidth\":2,\"linecolor\":\"white\",\"showbackground\":true,\"ticks\":\"\",\"zerolinecolor\":\"white\"},\"yaxis\":{\"backgroundcolor\":\"#E5ECF6\",\"gridcolor\":\"white\",\"gridwidth\":2,\"linecolor\":\"white\",\"showbackground\":true,\"ticks\":\"\",\"zerolinecolor\":\"white\"},\"zaxis\":{\"backgroundcolor\":\"#E5ECF6\",\"gridcolor\":\"white\",\"gridwidth\":2,\"linecolor\":\"white\",\"showbackground\":true,\"ticks\":\"\",\"zerolinecolor\":\"white\"}},\"shapedefaults\":{\"line\":{\"color\":\"#2a3f5f\"}},\"ternary\":{\"aaxis\":{\"gridcolor\":\"white\",\"linecolor\":\"white\",\"ticks\":\"\"},\"baxis\":{\"gridcolor\":\"white\",\"linecolor\":\"white\",\"ticks\":\"\"},\"bgcolor\":\"#E5ECF6\",\"caxis\":{\"gridcolor\":\"white\",\"linecolor\":\"white\",\"ticks\":\"\"}},\"title\":{\"x\":0.05},\"xaxis\":{\"automargin\":true,\"gridcolor\":\"white\",\"linecolor\":\"white\",\"ticks\":\"\",\"title\":{\"standoff\":15},\"zerolinecolor\":\"white\",\"zerolinewidth\":2},\"yaxis\":{\"automargin\":true,\"gridcolor\":\"white\",\"linecolor\":\"white\",\"ticks\":\"\",\"title\":{\"standoff\":15},\"zerolinecolor\":\"white\",\"zerolinewidth\":2}}}},                        {\"responsive\": true}                    ).then(function(){\n",
       "                            \n",
       "var gd = document.getElementById('b32e51a5-b9b4-414e-a079-424c0bdbb1a9');\n",
       "var x = new MutationObserver(function (mutations, observer) {{\n",
       "        var display = window.getComputedStyle(gd).display;\n",
       "        if (!display || display === 'none') {{\n",
       "            console.log([gd, 'removed!']);\n",
       "            Plotly.purge(gd);\n",
       "            observer.disconnect();\n",
       "        }}\n",
       "}});\n",
       "\n",
       "// Listen for the removal of the full notebook cells\n",
       "var notebookContainer = gd.closest('#notebook-container');\n",
       "if (notebookContainer) {{\n",
       "    x.observe(notebookContainer, {childList: true});\n",
       "}}\n",
       "\n",
       "// Listen for the clearing of the current output cell\n",
       "var outputEl = gd.closest('.output');\n",
       "if (outputEl) {{\n",
       "    x.observe(outputEl, {childList: true});\n",
       "}}\n",
       "\n",
       "                        })                };                            </script>        </div>\n",
       "</body>\n",
       "</html>"
      ]
     },
     "metadata": {},
     "output_type": "display_data"
    }
   ],
   "source": [
    "# 하이퍼파라미터 최적화 과정을 확인\n",
    "optuna.visualization.plot_optimization_history(study)"
   ]
  }
 ],
 "metadata": {
  "accelerator": "GPU",
  "colab": {
   "collapsed_sections": [],
   "name": "Hyperparameter optimization using optuna in machine learning.ipynb",
   "provenance": []
  },
  "kernelspec": {
   "display_name": "Python 3",
   "language": "python",
   "name": "python3"
  },
  "language_info": {
   "codemirror_mode": {
    "name": "ipython",
    "version": 3
   },
   "file_extension": ".py",
   "mimetype": "text/x-python",
   "name": "python",
   "nbconvert_exporter": "python",
   "pygments_lexer": "ipython3",
   "version": "3.8.3"
  }
 },
 "nbformat": 4,
 "nbformat_minor": 1
}
